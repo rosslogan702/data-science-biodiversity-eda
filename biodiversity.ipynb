{
  "nbformat": 4,
  "nbformat_minor": 0,
  "metadata": {
    "colab": {
      "name": "biodiversity.ipynb",
      "version": "0.3.2",
      "provenance": [],
      "collapsed_sections": [],
      "toc_visible": true,
      "include_colab_link": true
    },
    "language_info": {
      "codemirror_mode": {
        "name": "ipython",
        "version": 2
      },
      "file_extension": ".py",
      "mimetype": "text/x-python",
      "name": "python",
      "nbconvert_exporter": "python",
      "pygments_lexer": "ipython2",
      "version": "2.7.13"
    },
    "kernelspec": {
      "display_name": "Python 2",
      "language": "python",
      "name": "python2"
    }
  },
  "cells": [
    {
      "cell_type": "markdown",
      "metadata": {
        "id": "view-in-github",
        "colab_type": "text"
      },
      "source": [
        "<a href=\"https://colab.research.google.com/github/rosslogan702/data-science-biodiversity-eda/blob/master/biodiversity.ipynb\" target=\"_parent\"><img src=\"https://colab.research.google.com/assets/colab-badge.svg\" alt=\"Open In Colab\"/></a>"
      ]
    },
    {
      "cell_type": "markdown",
      "metadata": {
        "id": "n3-5o-gHcfk7",
        "colab_type": "text"
      },
      "source": [
        "# Capstone 2: Biodiversity Project"
      ]
    },
    {
      "cell_type": "markdown",
      "metadata": {
        "id": "zwVxJmg9cfk8",
        "colab_type": "text"
      },
      "source": [
        "# Introduction\n",
        "You are a biodiversity analyst working for the National Parks Service.  You're going to help them analyze some data about species at various national parks.\n",
        "\n",
        "Note: The data that you'll be working with for this project is *inspired* by real data, but is mostly fictional."
      ]
    },
    {
      "cell_type": "markdown",
      "metadata": {
        "id": "9Dgj0VhFcfk8",
        "colab_type": "text"
      },
      "source": [
        "# Step 1\n",
        "Import the modules that you'll be using in this assignment:\n",
        "- `from matplotlib import pyplot as plt`\n",
        "- `import pandas as pd`"
      ]
    },
    {
      "cell_type": "code",
      "metadata": {
        "id": "mZftribvcfk9",
        "colab_type": "code",
        "colab": {}
      },
      "source": [
        "from matplotlib import pyplot as plt\n",
        "import pandas as pd\n",
        "import numpy as np"
      ],
      "execution_count": 0,
      "outputs": []
    },
    {
      "cell_type": "markdown",
      "metadata": {
        "id": "EahbxPZScfk_",
        "colab_type": "text"
      },
      "source": [
        "# Step 2\n",
        "You have been given two CSV files. `species_info.csv` with data about different species in our National Parks, including:\n",
        "- The scientific name of each species\n",
        "- The common names of each species\n",
        "- The species conservation status\n",
        "\n",
        "Load the dataset and inspect it:\n",
        "- Load `species_info.csv` into a DataFrame called `species`"
      ]
    },
    {
      "cell_type": "code",
      "metadata": {
        "id": "tn3ByMSncflA",
        "colab_type": "code",
        "colab": {}
      },
      "source": [
        "species = pd.read_csv('species_info.csv')"
      ],
      "execution_count": 0,
      "outputs": []
    },
    {
      "cell_type": "markdown",
      "metadata": {
        "id": "htCvqeP-cflC",
        "colab_type": "text"
      },
      "source": [
        "Inspect each DataFrame using `.head()`."
      ]
    },
    {
      "cell_type": "code",
      "metadata": {
        "id": "aXwWEJ7ZcflC",
        "colab_type": "code",
        "outputId": "4d912092-ebd7-42b2-b3ed-1b5f6e6333a7",
        "colab": {
          "base_uri": "https://localhost:8080/",
          "height": 195
        }
      },
      "source": [
        "species.head()"
      ],
      "execution_count": 3,
      "outputs": [
        {
          "output_type": "execute_result",
          "data": {
            "text/html": [
              "<div>\n",
              "<style scoped>\n",
              "    .dataframe tbody tr th:only-of-type {\n",
              "        vertical-align: middle;\n",
              "    }\n",
              "\n",
              "    .dataframe tbody tr th {\n",
              "        vertical-align: top;\n",
              "    }\n",
              "\n",
              "    .dataframe thead th {\n",
              "        text-align: right;\n",
              "    }\n",
              "</style>\n",
              "<table border=\"1\" class=\"dataframe\">\n",
              "  <thead>\n",
              "    <tr style=\"text-align: right;\">\n",
              "      <th></th>\n",
              "      <th>category</th>\n",
              "      <th>scientific_name</th>\n",
              "      <th>common_names</th>\n",
              "      <th>conservation_status</th>\n",
              "    </tr>\n",
              "  </thead>\n",
              "  <tbody>\n",
              "    <tr>\n",
              "      <th>0</th>\n",
              "      <td>Mammal</td>\n",
              "      <td>Clethrionomys gapperi gapperi</td>\n",
              "      <td>Gapper's Red-Backed Vole</td>\n",
              "      <td>NaN</td>\n",
              "    </tr>\n",
              "    <tr>\n",
              "      <th>1</th>\n",
              "      <td>Mammal</td>\n",
              "      <td>Bos bison</td>\n",
              "      <td>American Bison, Bison</td>\n",
              "      <td>NaN</td>\n",
              "    </tr>\n",
              "    <tr>\n",
              "      <th>2</th>\n",
              "      <td>Mammal</td>\n",
              "      <td>Bos taurus</td>\n",
              "      <td>Aurochs, Aurochs, Domestic Cattle (Feral), Dom...</td>\n",
              "      <td>NaN</td>\n",
              "    </tr>\n",
              "    <tr>\n",
              "      <th>3</th>\n",
              "      <td>Mammal</td>\n",
              "      <td>Ovis aries</td>\n",
              "      <td>Domestic Sheep, Mouflon, Red Sheep, Sheep (Feral)</td>\n",
              "      <td>NaN</td>\n",
              "    </tr>\n",
              "    <tr>\n",
              "      <th>4</th>\n",
              "      <td>Mammal</td>\n",
              "      <td>Cervus elaphus</td>\n",
              "      <td>Wapiti Or Elk</td>\n",
              "      <td>NaN</td>\n",
              "    </tr>\n",
              "  </tbody>\n",
              "</table>\n",
              "</div>"
            ],
            "text/plain": [
              "  category  ... conservation_status\n",
              "0   Mammal  ...                 NaN\n",
              "1   Mammal  ...                 NaN\n",
              "2   Mammal  ...                 NaN\n",
              "3   Mammal  ...                 NaN\n",
              "4   Mammal  ...                 NaN\n",
              "\n",
              "[5 rows x 4 columns]"
            ]
          },
          "metadata": {
            "tags": []
          },
          "execution_count": 3
        }
      ]
    },
    {
      "cell_type": "markdown",
      "metadata": {
        "id": "SrmNRGmhcflE",
        "colab_type": "text"
      },
      "source": [
        "# Step 3\n",
        "Let's start by learning a bit more about our data.  Answer each of the following questions."
      ]
    },
    {
      "cell_type": "markdown",
      "metadata": {
        "id": "RXX2bHGBcflE",
        "colab_type": "text"
      },
      "source": [
        "How many different species are in the `species` DataFrame?"
      ]
    },
    {
      "cell_type": "code",
      "metadata": {
        "id": "RDqVRnf4cflF",
        "colab_type": "code",
        "outputId": "72ac61ba-0788-4d06-fd6c-e0d77054de74",
        "colab": {
          "base_uri": "https://localhost:8080/",
          "height": 50
        }
      },
      "source": [
        "total_species = species.scientific_name.count()\n",
        "print 'Total Num Species: {}'.format(total_species)\n",
        "\n",
        "unique_species = species.scientific_name.nunique()\n",
        "print 'Total Unique Species: {}'.format(unique_species)"
      ],
      "execution_count": 4,
      "outputs": [
        {
          "output_type": "stream",
          "text": [
            "Total Num Species: 5824\n",
            "Total Unique Species: 5541\n"
          ],
          "name": "stdout"
        }
      ]
    },
    {
      "cell_type": "markdown",
      "metadata": {
        "id": "_aL7tN1bcflH",
        "colab_type": "text"
      },
      "source": [
        "What are the different values of `category` in `species`?"
      ]
    },
    {
      "cell_type": "code",
      "metadata": {
        "id": "wbrLi4qOcflH",
        "colab_type": "code",
        "outputId": "89762890-a827-49fd-9cb2-7fa56205eac7",
        "colab": {
          "base_uri": "https://localhost:8080/",
          "height": 168
        }
      },
      "source": [
        "species.groupby('category')['category'].count()"
      ],
      "execution_count": 5,
      "outputs": [
        {
          "output_type": "execute_result",
          "data": {
            "text/plain": [
              "category\n",
              "Amphibian              80\n",
              "Bird                  521\n",
              "Fish                  127\n",
              "Mammal                214\n",
              "Nonvascular Plant     333\n",
              "Reptile                79\n",
              "Vascular Plant       4470\n",
              "Name: category, dtype: int64"
            ]
          },
          "metadata": {
            "tags": []
          },
          "execution_count": 5
        }
      ]
    },
    {
      "cell_type": "markdown",
      "metadata": {
        "id": "1nmcHfpUcflJ",
        "colab_type": "text"
      },
      "source": [
        "What are the different values of `conservation_status`?"
      ]
    },
    {
      "cell_type": "code",
      "metadata": {
        "id": "5c9b1K-kcflJ",
        "colab_type": "code",
        "outputId": "03e846d5-43b4-4609-a176-ba15f311ee03",
        "colab": {
          "base_uri": "https://localhost:8080/",
          "height": 101
        }
      },
      "source": [
        "species.conservation_status.value_counts()"
      ],
      "execution_count": 6,
      "outputs": [
        {
          "output_type": "execute_result",
          "data": {
            "text/plain": [
              "Species of Concern    161\n",
              "Endangered             16\n",
              "Threatened             10\n",
              "In Recovery             4\n",
              "Name: conservation_status, dtype: int64"
            ]
          },
          "metadata": {
            "tags": []
          },
          "execution_count": 6
        }
      ]
    },
    {
      "cell_type": "markdown",
      "metadata": {
        "id": "thIp_yljcflL",
        "colab_type": "text"
      },
      "source": [
        "# Step 4\n",
        "Let's start doing some analysis!\n",
        "\n",
        "The column `conservation_status` has several possible values:\n",
        "- `Species of Concern`: declining or appear to be in need of conservation\n",
        "- `Threatened`: vulnerable to endangerment in the near future\n",
        "- `Endangered`: seriously at risk of extinction\n",
        "- `In Recovery`: formerly `Endangered`, but currnetly neither in danger of extinction throughout all or a significant portion of its range\n",
        "\n",
        "We'd like to count up how many species meet each of these criteria.  Use `groupby` to count how many `scientific_name` meet each of these criteria."
      ]
    },
    {
      "cell_type": "code",
      "metadata": {
        "id": "l0cmpse4cflM",
        "colab_type": "code",
        "outputId": "f4297fb3-004c-46f3-8e28-5f08ef208cd5",
        "colab": {
          "base_uri": "https://localhost:8080/",
          "height": 195
        }
      },
      "source": [
        "species.groupby(['conservation_status'])[['scientific_name']].count()"
      ],
      "execution_count": 7,
      "outputs": [
        {
          "output_type": "execute_result",
          "data": {
            "text/html": [
              "<div>\n",
              "<style scoped>\n",
              "    .dataframe tbody tr th:only-of-type {\n",
              "        vertical-align: middle;\n",
              "    }\n",
              "\n",
              "    .dataframe tbody tr th {\n",
              "        vertical-align: top;\n",
              "    }\n",
              "\n",
              "    .dataframe thead th {\n",
              "        text-align: right;\n",
              "    }\n",
              "</style>\n",
              "<table border=\"1\" class=\"dataframe\">\n",
              "  <thead>\n",
              "    <tr style=\"text-align: right;\">\n",
              "      <th></th>\n",
              "      <th>scientific_name</th>\n",
              "    </tr>\n",
              "    <tr>\n",
              "      <th>conservation_status</th>\n",
              "      <th></th>\n",
              "    </tr>\n",
              "  </thead>\n",
              "  <tbody>\n",
              "    <tr>\n",
              "      <th>Endangered</th>\n",
              "      <td>16</td>\n",
              "    </tr>\n",
              "    <tr>\n",
              "      <th>In Recovery</th>\n",
              "      <td>4</td>\n",
              "    </tr>\n",
              "    <tr>\n",
              "      <th>Species of Concern</th>\n",
              "      <td>161</td>\n",
              "    </tr>\n",
              "    <tr>\n",
              "      <th>Threatened</th>\n",
              "      <td>10</td>\n",
              "    </tr>\n",
              "  </tbody>\n",
              "</table>\n",
              "</div>"
            ],
            "text/plain": [
              "                     scientific_name\n",
              "conservation_status                 \n",
              "Endangered                        16\n",
              "In Recovery                        4\n",
              "Species of Concern               161\n",
              "Threatened                        10"
            ]
          },
          "metadata": {
            "tags": []
          },
          "execution_count": 7
        }
      ]
    },
    {
      "cell_type": "markdown",
      "metadata": {
        "id": "L7RWq59ucflO",
        "colab_type": "text"
      },
      "source": [
        "As we saw before, there are far more than 200 species in the `species` table.  Clearly, only a small number of them are categorized as needing some sort of protection.  The rest have `conservation_status` equal to `None`.  Because `groupby` does not include `None`, we will need to fill in the null values.  We can do this using `.fillna`.  We pass in however we want to fill in our `None` values as an argument.\n",
        "\n",
        "Paste the following code and run it to see replace `None` with `No Intervention`:\n",
        "```python\n",
        "species.fillna('No Intervention', inplace=True)\n",
        "```"
      ]
    },
    {
      "cell_type": "code",
      "metadata": {
        "id": "iFSCx-ZccflO",
        "colab_type": "code",
        "colab": {}
      },
      "source": [
        "species.fillna('No Intervention', inplace=True)"
      ],
      "execution_count": 0,
      "outputs": []
    },
    {
      "cell_type": "markdown",
      "metadata": {
        "id": "bwZnF57ucflQ",
        "colab_type": "text"
      },
      "source": [
        "Great! Now run the same `groupby` as before to see how many species require `No Intervention`."
      ]
    },
    {
      "cell_type": "code",
      "metadata": {
        "id": "HEAwKkeFcflR",
        "colab_type": "code",
        "outputId": "2343ce3d-14b6-41db-c859-1f68f3138883",
        "colab": {
          "base_uri": "https://localhost:8080/",
          "height": 225
        }
      },
      "source": [
        "species.groupby(['conservation_status'])[['scientific_name']].count()"
      ],
      "execution_count": 9,
      "outputs": [
        {
          "output_type": "execute_result",
          "data": {
            "text/html": [
              "<div>\n",
              "<style scoped>\n",
              "    .dataframe tbody tr th:only-of-type {\n",
              "        vertical-align: middle;\n",
              "    }\n",
              "\n",
              "    .dataframe tbody tr th {\n",
              "        vertical-align: top;\n",
              "    }\n",
              "\n",
              "    .dataframe thead th {\n",
              "        text-align: right;\n",
              "    }\n",
              "</style>\n",
              "<table border=\"1\" class=\"dataframe\">\n",
              "  <thead>\n",
              "    <tr style=\"text-align: right;\">\n",
              "      <th></th>\n",
              "      <th>scientific_name</th>\n",
              "    </tr>\n",
              "    <tr>\n",
              "      <th>conservation_status</th>\n",
              "      <th></th>\n",
              "    </tr>\n",
              "  </thead>\n",
              "  <tbody>\n",
              "    <tr>\n",
              "      <th>Endangered</th>\n",
              "      <td>16</td>\n",
              "    </tr>\n",
              "    <tr>\n",
              "      <th>In Recovery</th>\n",
              "      <td>4</td>\n",
              "    </tr>\n",
              "    <tr>\n",
              "      <th>No Intervention</th>\n",
              "      <td>5633</td>\n",
              "    </tr>\n",
              "    <tr>\n",
              "      <th>Species of Concern</th>\n",
              "      <td>161</td>\n",
              "    </tr>\n",
              "    <tr>\n",
              "      <th>Threatened</th>\n",
              "      <td>10</td>\n",
              "    </tr>\n",
              "  </tbody>\n",
              "</table>\n",
              "</div>"
            ],
            "text/plain": [
              "                     scientific_name\n",
              "conservation_status                 \n",
              "Endangered                        16\n",
              "In Recovery                        4\n",
              "No Intervention                 5633\n",
              "Species of Concern               161\n",
              "Threatened                        10"
            ]
          },
          "metadata": {
            "tags": []
          },
          "execution_count": 9
        }
      ]
    },
    {
      "cell_type": "markdown",
      "metadata": {
        "id": "32YdLk0ucflT",
        "colab_type": "text"
      },
      "source": [
        "Let's use `plt.bar` to create a bar chart.  First, let's sort the columns by how many species are in each categories.  We can do this using `.sort_values`.  We use the the keyword `by` to indicate which column we want to sort by.\n",
        "\n",
        "Paste the following code and run it to create a new DataFrame called `protection_counts`, which is sorted by `scientific_name`:\n",
        "```python\n",
        "protection_counts = species.groupby('conservation_status')\\\n",
        "    .scientific_name.count().reset_index()\\\n",
        "    .sort_values(by='scientific_name')\n",
        "```"
      ]
    },
    {
      "cell_type": "code",
      "metadata": {
        "id": "_RExfP0ucflT",
        "colab_type": "code",
        "colab": {}
      },
      "source": [
        "protection_counts = species.groupby('conservation_status')\\\n",
        ".scientific_name.count().reset_index().sort_values(by='scientific_name')"
      ],
      "execution_count": 0,
      "outputs": []
    },
    {
      "cell_type": "code",
      "metadata": {
        "id": "FznaR-k1Gs8A",
        "colab_type": "code",
        "outputId": "7901270a-d989-48e4-9f24-a913985f4b78",
        "colab": {
          "base_uri": "https://localhost:8080/",
          "height": 195
        }
      },
      "source": [
        "protection_counts"
      ],
      "execution_count": 11,
      "outputs": [
        {
          "output_type": "execute_result",
          "data": {
            "text/html": [
              "<div>\n",
              "<style scoped>\n",
              "    .dataframe tbody tr th:only-of-type {\n",
              "        vertical-align: middle;\n",
              "    }\n",
              "\n",
              "    .dataframe tbody tr th {\n",
              "        vertical-align: top;\n",
              "    }\n",
              "\n",
              "    .dataframe thead th {\n",
              "        text-align: right;\n",
              "    }\n",
              "</style>\n",
              "<table border=\"1\" class=\"dataframe\">\n",
              "  <thead>\n",
              "    <tr style=\"text-align: right;\">\n",
              "      <th></th>\n",
              "      <th>conservation_status</th>\n",
              "      <th>scientific_name</th>\n",
              "    </tr>\n",
              "  </thead>\n",
              "  <tbody>\n",
              "    <tr>\n",
              "      <th>1</th>\n",
              "      <td>In Recovery</td>\n",
              "      <td>4</td>\n",
              "    </tr>\n",
              "    <tr>\n",
              "      <th>4</th>\n",
              "      <td>Threatened</td>\n",
              "      <td>10</td>\n",
              "    </tr>\n",
              "    <tr>\n",
              "      <th>0</th>\n",
              "      <td>Endangered</td>\n",
              "      <td>16</td>\n",
              "    </tr>\n",
              "    <tr>\n",
              "      <th>3</th>\n",
              "      <td>Species of Concern</td>\n",
              "      <td>161</td>\n",
              "    </tr>\n",
              "    <tr>\n",
              "      <th>2</th>\n",
              "      <td>No Intervention</td>\n",
              "      <td>5633</td>\n",
              "    </tr>\n",
              "  </tbody>\n",
              "</table>\n",
              "</div>"
            ],
            "text/plain": [
              "  conservation_status  scientific_name\n",
              "1         In Recovery                4\n",
              "4          Threatened               10\n",
              "0          Endangered               16\n",
              "3  Species of Concern              161\n",
              "2     No Intervention             5633"
            ]
          },
          "metadata": {
            "tags": []
          },
          "execution_count": 11
        }
      ]
    },
    {
      "cell_type": "markdown",
      "metadata": {
        "id": "otO6edw2cflV",
        "colab_type": "text"
      },
      "source": [
        "Now let's create a bar chart!\n",
        "1. Start by creating a wide figure with `figsize=(10, 4)`\n",
        "1. Start by creating an axes object called `ax` using `plt.subplot`.\n",
        "2. Create a bar chart whose heights are equal to `scientific_name` column of `protection_counts`.\n",
        "3. Create an x-tick for each of the bars.\n",
        "4. Label each x-tick with the label from `conservation_status` in `protection_counts`\n",
        "5. Label the y-axis `Number of Species`\n",
        "6. Title the graph `Conservation Status by Species`\n",
        "7. Plot the grap using `plt.show()`"
      ]
    },
    {
      "cell_type": "code",
      "metadata": {
        "id": "BRf54zsKoSO7",
        "colab_type": "code",
        "colab": {}
      },
      "source": [
        "bar_heights = protection_counts.scientific_name"
      ],
      "execution_count": 0,
      "outputs": []
    },
    {
      "cell_type": "code",
      "metadata": {
        "id": "Rg3e2YSdGZ4C",
        "colab_type": "code",
        "colab": {}
      },
      "source": [
        "bar_x_labels = protection_counts.conservation_status"
      ],
      "execution_count": 0,
      "outputs": []
    },
    {
      "cell_type": "code",
      "metadata": {
        "id": "wDxqT9ZRcflW",
        "colab_type": "code",
        "outputId": "9db048a0-7691-4d30-e671-d4bee4d9a034",
        "colab": {
          "base_uri": "https://localhost:8080/",
          "height": 281
        }
      },
      "source": [
        "# Graph with all types of conservation status included\n",
        "plt.figure(figsize=(10,4))\n",
        "ax = plt.subplot()\n",
        "plt.bar(range(len(bar_heights)),\n",
        "  \t\t\tbar_heights,\n",
        "       capsize=5)\n",
        "ax.set_xticks(range(len(bar_heights)))\n",
        "ax.set_xticklabels(bar_x_labels)\n",
        "plt.ylabel('Number of Species')\n",
        "plt.title('Conservation Status by Species')\n",
        "plt.show()"
      ],
      "execution_count": 14,
      "outputs": [
        {
          "output_type": "display_data",
          "data": {
            "image/png": "[encoded data removed]",
            "text/plain": [
              "<Figure size 720x288 with 1 Axes>"
            ]
          },
          "metadata": {
            "tags": []
          }
        }
      ]
    },
    {
      "cell_type": "markdown",
      "metadata": {
        "id": "FvRM-clIcflY",
        "colab_type": "text"
      },
      "source": [
        "# Step 4\n",
        "Are certain types of species more likely to be endangered?"
      ]
    },
    {
      "cell_type": "markdown",
      "metadata": {
        "id": "X_lOmdf1cflY",
        "colab_type": "text"
      },
      "source": [
        "Let's create a new column in `species` called `is_protected`, which is `True` if `conservation_status` is not equal to `No Intervention`, and `False` otherwise."
      ]
    },
    {
      "cell_type": "code",
      "metadata": {
        "id": "Ok1MvhCKcflZ",
        "colab_type": "code",
        "colab": {}
      },
      "source": [
        "species['is_protected'] = np.where(species['conservation_status'] != 'No Intervention', True, False)"
      ],
      "execution_count": 0,
      "outputs": []
    },
    {
      "cell_type": "code",
      "metadata": {
        "id": "tumnaMsZH3mC",
        "colab_type": "code",
        "outputId": "d78073eb-d7fa-4f35-8471-562770bbd07d",
        "colab": {
          "base_uri": "https://localhost:8080/",
          "height": 195
        }
      },
      "source": [
        "species.head()"
      ],
      "execution_count": 16,
      "outputs": [
        {
          "output_type": "execute_result",
          "data": {
            "text/html": [
              "<div>\n",
              "<style scoped>\n",
              "    .dataframe tbody tr th:only-of-type {\n",
              "        vertical-align: middle;\n",
              "    }\n",
              "\n",
              "    .dataframe tbody tr th {\n",
              "        vertical-align: top;\n",
              "    }\n",
              "\n",
              "    .dataframe thead th {\n",
              "        text-align: right;\n",
              "    }\n",
              "</style>\n",
              "<table border=\"1\" class=\"dataframe\">\n",
              "  <thead>\n",
              "    <tr style=\"text-align: right;\">\n",
              "      <th></th>\n",
              "      <th>category</th>\n",
              "      <th>scientific_name</th>\n",
              "      <th>common_names</th>\n",
              "      <th>conservation_status</th>\n",
              "      <th>is_protected</th>\n",
              "    </tr>\n",
              "  </thead>\n",
              "  <tbody>\n",
              "    <tr>\n",
              "      <th>0</th>\n",
              "      <td>Mammal</td>\n",
              "      <td>Clethrionomys gapperi gapperi</td>\n",
              "      <td>Gapper's Red-Backed Vole</td>\n",
              "      <td>No Intervention</td>\n",
              "      <td>False</td>\n",
              "    </tr>\n",
              "    <tr>\n",
              "      <th>1</th>\n",
              "      <td>Mammal</td>\n",
              "      <td>Bos bison</td>\n",
              "      <td>American Bison, Bison</td>\n",
              "      <td>No Intervention</td>\n",
              "      <td>False</td>\n",
              "    </tr>\n",
              "    <tr>\n",
              "      <th>2</th>\n",
              "      <td>Mammal</td>\n",
              "      <td>Bos taurus</td>\n",
              "      <td>Aurochs, Aurochs, Domestic Cattle (Feral), Dom...</td>\n",
              "      <td>No Intervention</td>\n",
              "      <td>False</td>\n",
              "    </tr>\n",
              "    <tr>\n",
              "      <th>3</th>\n",
              "      <td>Mammal</td>\n",
              "      <td>Ovis aries</td>\n",
              "      <td>Domestic Sheep, Mouflon, Red Sheep, Sheep (Feral)</td>\n",
              "      <td>No Intervention</td>\n",
              "      <td>False</td>\n",
              "    </tr>\n",
              "    <tr>\n",
              "      <th>4</th>\n",
              "      <td>Mammal</td>\n",
              "      <td>Cervus elaphus</td>\n",
              "      <td>Wapiti Or Elk</td>\n",
              "      <td>No Intervention</td>\n",
              "      <td>False</td>\n",
              "    </tr>\n",
              "  </tbody>\n",
              "</table>\n",
              "</div>"
            ],
            "text/plain": [
              "  category                scientific_name  ... conservation_status is_protected\n",
              "0   Mammal  Clethrionomys gapperi gapperi  ...     No Intervention        False\n",
              "1   Mammal                      Bos bison  ...     No Intervention        False\n",
              "2   Mammal                     Bos taurus  ...     No Intervention        False\n",
              "3   Mammal                     Ovis aries  ...     No Intervention        False\n",
              "4   Mammal                 Cervus elaphus  ...     No Intervention        False\n",
              "\n",
              "[5 rows x 5 columns]"
            ]
          },
          "metadata": {
            "tags": []
          },
          "execution_count": 16
        }
      ]
    },
    {
      "cell_type": "markdown",
      "metadata": {
        "id": "cb0yod34cfla",
        "colab_type": "text"
      },
      "source": [
        "Let's group by *both* `category` and `is_protected`.  Save your results to `category_counts`."
      ]
    },
    {
      "cell_type": "code",
      "metadata": {
        "id": "cGslmg41cflb",
        "colab_type": "code",
        "colab": {}
      },
      "source": [
        "category_counts = species.groupby(['category', 'is_protected']).scientific_name.count().reset_index()"
      ],
      "execution_count": 0,
      "outputs": []
    },
    {
      "cell_type": "markdown",
      "metadata": {
        "id": "mVvJMwIHcflc",
        "colab_type": "text"
      },
      "source": [
        "Examine `category_counts` using `head()`."
      ]
    },
    {
      "cell_type": "code",
      "metadata": {
        "id": "0V-A1AOxcfld",
        "colab_type": "code",
        "outputId": "a0d124a0-79a2-4ef9-96dd-0b94041f5b72",
        "colab": {
          "base_uri": "https://localhost:8080/",
          "height": 195
        }
      },
      "source": [
        "category_counts.head()"
      ],
      "execution_count": 18,
      "outputs": [
        {
          "output_type": "execute_result",
          "data": {
            "text/html": [
              "<div>\n",
              "<style scoped>\n",
              "    .dataframe tbody tr th:only-of-type {\n",
              "        vertical-align: middle;\n",
              "    }\n",
              "\n",
              "    .dataframe tbody tr th {\n",
              "        vertical-align: top;\n",
              "    }\n",
              "\n",
              "    .dataframe thead th {\n",
              "        text-align: right;\n",
              "    }\n",
              "</style>\n",
              "<table border=\"1\" class=\"dataframe\">\n",
              "  <thead>\n",
              "    <tr style=\"text-align: right;\">\n",
              "      <th></th>\n",
              "      <th>category</th>\n",
              "      <th>is_protected</th>\n",
              "      <th>scientific_name</th>\n",
              "    </tr>\n",
              "  </thead>\n",
              "  <tbody>\n",
              "    <tr>\n",
              "      <th>0</th>\n",
              "      <td>Amphibian</td>\n",
              "      <td>False</td>\n",
              "      <td>73</td>\n",
              "    </tr>\n",
              "    <tr>\n",
              "      <th>1</th>\n",
              "      <td>Amphibian</td>\n",
              "      <td>True</td>\n",
              "      <td>7</td>\n",
              "    </tr>\n",
              "    <tr>\n",
              "      <th>2</th>\n",
              "      <td>Bird</td>\n",
              "      <td>False</td>\n",
              "      <td>442</td>\n",
              "    </tr>\n",
              "    <tr>\n",
              "      <th>3</th>\n",
              "      <td>Bird</td>\n",
              "      <td>True</td>\n",
              "      <td>79</td>\n",
              "    </tr>\n",
              "    <tr>\n",
              "      <th>4</th>\n",
              "      <td>Fish</td>\n",
              "      <td>False</td>\n",
              "      <td>116</td>\n",
              "    </tr>\n",
              "  </tbody>\n",
              "</table>\n",
              "</div>"
            ],
            "text/plain": [
              "    category  is_protected  scientific_name\n",
              "0  Amphibian         False               73\n",
              "1  Amphibian          True                7\n",
              "2       Bird         False              442\n",
              "3       Bird          True               79\n",
              "4       Fish         False              116"
            ]
          },
          "metadata": {
            "tags": []
          },
          "execution_count": 18
        }
      ]
    },
    {
      "cell_type": "markdown",
      "metadata": {
        "collapsed": true,
        "id": "K99LNhGGcflf",
        "colab_type": "text"
      },
      "source": [
        "It's going to be easier to view this data if we pivot it.  Using `pivot`, rearange `category_counts` so that:\n",
        "- `columns` is `is_protected`\n",
        "- `index` is `category`\n",
        "- `values` is `scientific_name`\n",
        "\n",
        "Save your pivoted data to `category_pivot`. Remember to `reset_index()` at the end."
      ]
    },
    {
      "cell_type": "code",
      "metadata": {
        "id": "U4xZ9buqcflf",
        "colab_type": "code",
        "colab": {}
      },
      "source": [
        "category_pivot = category_counts.pivot(index='category', columns='is_protected', values='scientific_name')"
      ],
      "execution_count": 0,
      "outputs": []
    },
    {
      "cell_type": "markdown",
      "metadata": {
        "id": "8wwsnHR3cfli",
        "colab_type": "text"
      },
      "source": [
        "Examine `category_pivot`."
      ]
    },
    {
      "cell_type": "code",
      "metadata": {
        "id": "bXdJvVUtcflj",
        "colab_type": "code",
        "outputId": "34158ec7-66c2-4435-f4b1-c0890fc365a6",
        "colab": {
          "base_uri": "https://localhost:8080/",
          "height": 225
        }
      },
      "source": [
        "category_pivot.head()"
      ],
      "execution_count": 20,
      "outputs": [
        {
          "output_type": "execute_result",
          "data": {
            "text/html": [
              "<div>\n",
              "<style scoped>\n",
              "    .dataframe tbody tr th:only-of-type {\n",
              "        vertical-align: middle;\n",
              "    }\n",
              "\n",
              "    .dataframe tbody tr th {\n",
              "        vertical-align: top;\n",
              "    }\n",
              "\n",
              "    .dataframe thead th {\n",
              "        text-align: right;\n",
              "    }\n",
              "</style>\n",
              "<table border=\"1\" class=\"dataframe\">\n",
              "  <thead>\n",
              "    <tr style=\"text-align: right;\">\n",
              "      <th>is_protected</th>\n",
              "      <th>False</th>\n",
              "      <th>True</th>\n",
              "    </tr>\n",
              "    <tr>\n",
              "      <th>category</th>\n",
              "      <th></th>\n",
              "      <th></th>\n",
              "    </tr>\n",
              "  </thead>\n",
              "  <tbody>\n",
              "    <tr>\n",
              "      <th>Amphibian</th>\n",
              "      <td>73</td>\n",
              "      <td>7</td>\n",
              "    </tr>\n",
              "    <tr>\n",
              "      <th>Bird</th>\n",
              "      <td>442</td>\n",
              "      <td>79</td>\n",
              "    </tr>\n",
              "    <tr>\n",
              "      <th>Fish</th>\n",
              "      <td>116</td>\n",
              "      <td>11</td>\n",
              "    </tr>\n",
              "    <tr>\n",
              "      <th>Mammal</th>\n",
              "      <td>176</td>\n",
              "      <td>38</td>\n",
              "    </tr>\n",
              "    <tr>\n",
              "      <th>Nonvascular Plant</th>\n",
              "      <td>328</td>\n",
              "      <td>5</td>\n",
              "    </tr>\n",
              "  </tbody>\n",
              "</table>\n",
              "</div>"
            ],
            "text/plain": [
              "is_protected       False  True \n",
              "category                       \n",
              "Amphibian             73      7\n",
              "Bird                 442     79\n",
              "Fish                 116     11\n",
              "Mammal               176     38\n",
              "Nonvascular Plant    328      5"
            ]
          },
          "metadata": {
            "tags": []
          },
          "execution_count": 20
        }
      ]
    },
    {
      "cell_type": "markdown",
      "metadata": {
        "id": "rGGyPqiWcfll",
        "colab_type": "text"
      },
      "source": [
        "Use the `.columns` property to  rename the categories `True` and `False` to something more description:\n",
        "- Leave `category` as `category`\n",
        "- Rename `False` to `not_protected`\n",
        "- Rename `True` to `protected`"
      ]
    },
    {
      "cell_type": "code",
      "metadata": {
        "id": "3mA9SQBQcfll",
        "colab_type": "code",
        "colab": {}
      },
      "source": [
        "category_pivot.columns = ['not_protected', 'protected']"
      ],
      "execution_count": 0,
      "outputs": []
    },
    {
      "cell_type": "markdown",
      "metadata": {
        "id": "tTl120a0cfln",
        "colab_type": "text"
      },
      "source": [
        "Let's create a new column of `category_pivot` called `percent_protected`, which is equal to `protected` (the number of species that are protected) divided by `protected` plus `not_protected` (the total number of species)."
      ]
    },
    {
      "cell_type": "code",
      "metadata": {
        "id": "bkzmJ5-2cfln",
        "colab_type": "code",
        "colab": {}
      },
      "source": [
        "category_pivot['percent_protected'] = category_pivot['protected']/(category_pivot['protected'] \n",
        "                                                                   + category_pivot['not_protected'])"
      ],
      "execution_count": 0,
      "outputs": []
    },
    {
      "cell_type": "markdown",
      "metadata": {
        "id": "kODVcPigcflp",
        "colab_type": "text"
      },
      "source": [
        "Examine `category_pivot`."
      ]
    },
    {
      "cell_type": "code",
      "metadata": {
        "id": "E35X2feQcflp",
        "colab_type": "code",
        "outputId": "ebed68a1-4371-4495-eb51-1a45156bf23c",
        "colab": {
          "base_uri": "https://localhost:8080/",
          "height": 225
        }
      },
      "source": [
        "category_pivot.head()"
      ],
      "execution_count": 23,
      "outputs": [
        {
          "output_type": "execute_result",
          "data": {
            "text/html": [
              "<div>\n",
              "<style scoped>\n",
              "    .dataframe tbody tr th:only-of-type {\n",
              "        vertical-align: middle;\n",
              "    }\n",
              "\n",
              "    .dataframe tbody tr th {\n",
              "        vertical-align: top;\n",
              "    }\n",
              "\n",
              "    .dataframe thead th {\n",
              "        text-align: right;\n",
              "    }\n",
              "</style>\n",
              "<table border=\"1\" class=\"dataframe\">\n",
              "  <thead>\n",
              "    <tr style=\"text-align: right;\">\n",
              "      <th></th>\n",
              "      <th>not_protected</th>\n",
              "      <th>protected</th>\n",
              "      <th>percent_protected</th>\n",
              "    </tr>\n",
              "    <tr>\n",
              "      <th>category</th>\n",
              "      <th></th>\n",
              "      <th></th>\n",
              "      <th></th>\n",
              "    </tr>\n",
              "  </thead>\n",
              "  <tbody>\n",
              "    <tr>\n",
              "      <th>Amphibian</th>\n",
              "      <td>73</td>\n",
              "      <td>7</td>\n",
              "      <td>0.087500</td>\n",
              "    </tr>\n",
              "    <tr>\n",
              "      <th>Bird</th>\n",
              "      <td>442</td>\n",
              "      <td>79</td>\n",
              "      <td>0.151631</td>\n",
              "    </tr>\n",
              "    <tr>\n",
              "      <th>Fish</th>\n",
              "      <td>116</td>\n",
              "      <td>11</td>\n",
              "      <td>0.086614</td>\n",
              "    </tr>\n",
              "    <tr>\n",
              "      <th>Mammal</th>\n",
              "      <td>176</td>\n",
              "      <td>38</td>\n",
              "      <td>0.177570</td>\n",
              "    </tr>\n",
              "    <tr>\n",
              "      <th>Nonvascular Plant</th>\n",
              "      <td>328</td>\n",
              "      <td>5</td>\n",
              "      <td>0.015015</td>\n",
              "    </tr>\n",
              "  </tbody>\n",
              "</table>\n",
              "</div>"
            ],
            "text/plain": [
              "                   not_protected  protected  percent_protected\n",
              "category                                                      \n",
              "Amphibian                     73          7           0.087500\n",
              "Bird                         442         79           0.151631\n",
              "Fish                         116         11           0.086614\n",
              "Mammal                       176         38           0.177570\n",
              "Nonvascular Plant            328          5           0.015015"
            ]
          },
          "metadata": {
            "tags": []
          },
          "execution_count": 23
        }
      ]
    },
    {
      "cell_type": "markdown",
      "metadata": {
        "id": "Wfi44Uj-cflr",
        "colab_type": "text"
      },
      "source": [
        "It looks like species in category `Mammal` are more likely to be endangered than species in `Bird`.  We're going to do a significance test to see if this statement is true.  Before you do the significance test, consider the following questions:\n",
        "- Is the data numerical or categorical?\n",
        "- How many pieces of data are you comparing?"
      ]
    },
    {
      "cell_type": "markdown",
      "metadata": {
        "id": "xjz6lP3Bcfls",
        "colab_type": "text"
      },
      "source": [
        "Based on those answers, you should choose to do a *chi squared test*.  In order to run a chi squared test, we'll need to create a contingency table.  Our contingency table should look like this:\n",
        "\n",
        "||protected|not protected|\n",
        "|-|-|-|\n",
        "|Mammal|?|?|\n",
        "|Bird|?|?|\n",
        "\n",
        "Create a table called `contingency` and fill it in with the correct numbers"
      ]
    },
    {
      "cell_type": "code",
      "metadata": {
        "id": "57G4eH_ccflt",
        "colab_type": "code",
        "outputId": "3fef8a69-f291-41c7-b447-345aa716907d",
        "colab": {
          "base_uri": "https://localhost:8080/",
          "height": 136
        }
      },
      "source": [
        "contingency = category_pivot.loc[['Mammal', 'Bird']][['protected', 'not_protected']]\n",
        "contingency.head()"
      ],
      "execution_count": 24,
      "outputs": [
        {
          "output_type": "execute_result",
          "data": {
            "text/html": [
              "<div>\n",
              "<style scoped>\n",
              "    .dataframe tbody tr th:only-of-type {\n",
              "        vertical-align: middle;\n",
              "    }\n",
              "\n",
              "    .dataframe tbody tr th {\n",
              "        vertical-align: top;\n",
              "    }\n",
              "\n",
              "    .dataframe thead th {\n",
              "        text-align: right;\n",
              "    }\n",
              "</style>\n",
              "<table border=\"1\" class=\"dataframe\">\n",
              "  <thead>\n",
              "    <tr style=\"text-align: right;\">\n",
              "      <th></th>\n",
              "      <th>protected</th>\n",
              "      <th>not_protected</th>\n",
              "    </tr>\n",
              "    <tr>\n",
              "      <th>category</th>\n",
              "      <th></th>\n",
              "      <th></th>\n",
              "    </tr>\n",
              "  </thead>\n",
              "  <tbody>\n",
              "    <tr>\n",
              "      <th>Mammal</th>\n",
              "      <td>38</td>\n",
              "      <td>176</td>\n",
              "    </tr>\n",
              "    <tr>\n",
              "      <th>Bird</th>\n",
              "      <td>79</td>\n",
              "      <td>442</td>\n",
              "    </tr>\n",
              "  </tbody>\n",
              "</table>\n",
              "</div>"
            ],
            "text/plain": [
              "          protected  not_protected\n",
              "category                          \n",
              "Mammal           38            176\n",
              "Bird             79            442"
            ]
          },
          "metadata": {
            "tags": []
          },
          "execution_count": 24
        }
      ]
    },
    {
      "cell_type": "markdown",
      "metadata": {
        "id": "m_VC1oH_cflu",
        "colab_type": "text"
      },
      "source": [
        "In order to perform our chi square test, we'll need to import the correct function from scipy.  Past the following code and run it:\n",
        "```py\n",
        "from scipy.stats import chi2_contingency\n",
        "```"
      ]
    },
    {
      "cell_type": "code",
      "metadata": {
        "id": "B9ImpUWFcflu",
        "colab_type": "code",
        "colab": {}
      },
      "source": [
        "from scipy.stats import chi2_contingency"
      ],
      "execution_count": 0,
      "outputs": []
    },
    {
      "cell_type": "markdown",
      "metadata": {
        "id": "BB13iGALcflw",
        "colab_type": "text"
      },
      "source": [
        "Now run `chi2_contingency` with `contingency`."
      ]
    },
    {
      "cell_type": "code",
      "metadata": {
        "id": "o_SvrKgbcflx",
        "colab_type": "code",
        "outputId": "1ac8c013-a3a3-4eb3-8cf4-02209f25e763",
        "colab": {
          "base_uri": "https://localhost:8080/",
          "height": 34
        }
      },
      "source": [
        "chi2, pvalue, dof, expected = chi2_contingency(contingency)\n",
        "\n",
        "if pvalue < 0.05:\n",
        "  print (\"Statistically significant! {}\".format(pvalue))\n",
        "else:\n",
        "  print(\"Not significant! {}\".format(pvalue))"
      ],
      "execution_count": 26,
      "outputs": [
        {
          "output_type": "stream",
          "text": [
            "Not significant! 0.445901703047\n"
          ],
          "name": "stdout"
        }
      ]
    },
    {
      "cell_type": "markdown",
      "metadata": {
        "id": "6xUFKkUycflz",
        "colab_type": "text"
      },
      "source": [
        "It looks like this difference isn't significant!\n",
        "\n",
        "Let's test another.  Is the difference between `Reptile` and `Mammal` significant?"
      ]
    },
    {
      "cell_type": "code",
      "metadata": {
        "id": "-bjp2jlvcfl0",
        "colab_type": "code",
        "outputId": "80db19af-231b-4541-8184-ca138e73e8a0",
        "colab": {
          "base_uri": "https://localhost:8080/",
          "height": 136
        }
      },
      "source": [
        "contingency = category_pivot.loc[['Reptile', 'Mammal']][['protected', 'not_protected']]\n",
        "contingency.head()"
      ],
      "execution_count": 27,
      "outputs": [
        {
          "output_type": "execute_result",
          "data": {
            "text/html": [
              "<div>\n",
              "<style scoped>\n",
              "    .dataframe tbody tr th:only-of-type {\n",
              "        vertical-align: middle;\n",
              "    }\n",
              "\n",
              "    .dataframe tbody tr th {\n",
              "        vertical-align: top;\n",
              "    }\n",
              "\n",
              "    .dataframe thead th {\n",
              "        text-align: right;\n",
              "    }\n",
              "</style>\n",
              "<table border=\"1\" class=\"dataframe\">\n",
              "  <thead>\n",
              "    <tr style=\"text-align: right;\">\n",
              "      <th></th>\n",
              "      <th>protected</th>\n",
              "      <th>not_protected</th>\n",
              "    </tr>\n",
              "    <tr>\n",
              "      <th>category</th>\n",
              "      <th></th>\n",
              "      <th></th>\n",
              "    </tr>\n",
              "  </thead>\n",
              "  <tbody>\n",
              "    <tr>\n",
              "      <th>Reptile</th>\n",
              "      <td>5</td>\n",
              "      <td>74</td>\n",
              "    </tr>\n",
              "    <tr>\n",
              "      <th>Mammal</th>\n",
              "      <td>38</td>\n",
              "      <td>176</td>\n",
              "    </tr>\n",
              "  </tbody>\n",
              "</table>\n",
              "</div>"
            ],
            "text/plain": [
              "          protected  not_protected\n",
              "category                          \n",
              "Reptile           5             74\n",
              "Mammal           38            176"
            ]
          },
          "metadata": {
            "tags": []
          },
          "execution_count": 27
        }
      ]
    },
    {
      "cell_type": "code",
      "metadata": {
        "id": "4kuJqkiUTBuQ",
        "colab_type": "code",
        "outputId": "dfd6a625-8f3e-498d-c91e-fc93a6502c09",
        "colab": {
          "base_uri": "https://localhost:8080/",
          "height": 34
        }
      },
      "source": [
        "chi2, pvalue, dof, expected = chi2_contingency(contingency)\n",
        "\n",
        "if pvalue < 0.05:\n",
        "  print (\"Statistically significant! {}\".format(pvalue))\n",
        "else:\n",
        "  print(\"Not significant! {}\".format(pvalue))"
      ],
      "execution_count": 28,
      "outputs": [
        {
          "output_type": "stream",
          "text": [
            "Statistically significant! 0.0233846521487\n"
          ],
          "name": "stdout"
        }
      ]
    },
    {
      "cell_type": "markdown",
      "metadata": {
        "id": "8ox5Z-o2cfl2",
        "colab_type": "text"
      },
      "source": [
        "Yes! It looks like there is a significant difference between `Reptile` and `Mammal`!"
      ]
    },
    {
      "cell_type": "markdown",
      "metadata": {
        "id": "4OMylLLMcfl3",
        "colab_type": "text"
      },
      "source": [
        "# Step 5"
      ]
    },
    {
      "cell_type": "markdown",
      "metadata": {
        "id": "ym0sDdBrcfl3",
        "colab_type": "text"
      },
      "source": [
        "Conservationists have been recording sightings of different species at several national parks for the past 7 days.  They've saved sent you their observations in a file called `observations.csv`.  Load `observations.csv` into a variable called `observations`, then use `head` to view the data."
      ]
    },
    {
      "cell_type": "code",
      "metadata": {
        "id": "zCbHTwqpcfl4",
        "colab_type": "code",
        "colab": {}
      },
      "source": [
        "observations = pd.read_csv('observations.csv')"
      ],
      "execution_count": 0,
      "outputs": []
    },
    {
      "cell_type": "code",
      "metadata": {
        "id": "5Gj5JOVyTvIJ",
        "colab_type": "code",
        "outputId": "4604e190-6731-4eb5-dfd0-01e08a9e1aab",
        "colab": {
          "base_uri": "https://localhost:8080/",
          "height": 195
        }
      },
      "source": [
        "observations.head()"
      ],
      "execution_count": 30,
      "outputs": [
        {
          "output_type": "execute_result",
          "data": {
            "text/html": [
              "<div>\n",
              "<style scoped>\n",
              "    .dataframe tbody tr th:only-of-type {\n",
              "        vertical-align: middle;\n",
              "    }\n",
              "\n",
              "    .dataframe tbody tr th {\n",
              "        vertical-align: top;\n",
              "    }\n",
              "\n",
              "    .dataframe thead th {\n",
              "        text-align: right;\n",
              "    }\n",
              "</style>\n",
              "<table border=\"1\" class=\"dataframe\">\n",
              "  <thead>\n",
              "    <tr style=\"text-align: right;\">\n",
              "      <th></th>\n",
              "      <th>scientific_name</th>\n",
              "      <th>park_name</th>\n",
              "      <th>observations</th>\n",
              "    </tr>\n",
              "  </thead>\n",
              "  <tbody>\n",
              "    <tr>\n",
              "      <th>0</th>\n",
              "      <td>Vicia benghalensis</td>\n",
              "      <td>Great Smoky Mountains National Park</td>\n",
              "      <td>68</td>\n",
              "    </tr>\n",
              "    <tr>\n",
              "      <th>1</th>\n",
              "      <td>Neovison vison</td>\n",
              "      <td>Great Smoky Mountains National Park</td>\n",
              "      <td>77</td>\n",
              "    </tr>\n",
              "    <tr>\n",
              "      <th>2</th>\n",
              "      <td>Prunus subcordata</td>\n",
              "      <td>Yosemite National Park</td>\n",
              "      <td>138</td>\n",
              "    </tr>\n",
              "    <tr>\n",
              "      <th>3</th>\n",
              "      <td>Abutilon theophrasti</td>\n",
              "      <td>Bryce National Park</td>\n",
              "      <td>84</td>\n",
              "    </tr>\n",
              "    <tr>\n",
              "      <th>4</th>\n",
              "      <td>Githopsis specularioides</td>\n",
              "      <td>Great Smoky Mountains National Park</td>\n",
              "      <td>85</td>\n",
              "    </tr>\n",
              "  </tbody>\n",
              "</table>\n",
              "</div>"
            ],
            "text/plain": [
              "            scientific_name                            park_name  observations\n",
              "0        Vicia benghalensis  Great Smoky Mountains National Park            68\n",
              "1            Neovison vison  Great Smoky Mountains National Park            77\n",
              "2         Prunus subcordata               Yosemite National Park           138\n",
              "3      Abutilon theophrasti                  Bryce National Park            84\n",
              "4  Githopsis specularioides  Great Smoky Mountains National Park            85"
            ]
          },
          "metadata": {
            "tags": []
          },
          "execution_count": 30
        }
      ]
    },
    {
      "cell_type": "markdown",
      "metadata": {
        "id": "yF3xGFoRcfl5",
        "colab_type": "text"
      },
      "source": [
        "Some scientists are studying the number of sheep sightings at different national parks.  There are several different scientific names for different types of sheep.  We'd like to know which rows of `species` are referring to sheep.  Notice that the following code will tell us whether or not a word occurs in a string:"
      ]
    },
    {
      "cell_type": "code",
      "metadata": {
        "id": "A4UQN8e2cfl6",
        "colab_type": "code",
        "outputId": "9590063d-6069-4af4-92f8-bc01e3d3146f",
        "colab": {
          "base_uri": "https://localhost:8080/",
          "height": 34
        }
      },
      "source": [
        "# Does \"Sheep\" occur in this string?\n",
        "str1 = 'This string contains Sheep'\n",
        "'Sheep' in str1"
      ],
      "execution_count": 31,
      "outputs": [
        {
          "output_type": "execute_result",
          "data": {
            "text/plain": [
              "True"
            ]
          },
          "metadata": {
            "tags": []
          },
          "execution_count": 31
        }
      ]
    },
    {
      "cell_type": "code",
      "metadata": {
        "id": "gW7cLCv0cfl8",
        "colab_type": "code",
        "outputId": "a0fb69d3-b1b3-4258-dc49-52baa40e1ac1",
        "colab": {
          "base_uri": "https://localhost:8080/",
          "height": 34
        }
      },
      "source": [
        "# Does \"Sheep\" occur in this string?\n",
        "str2 = 'This string contains Cows'\n",
        "'Sheep' in str2"
      ],
      "execution_count": 32,
      "outputs": [
        {
          "output_type": "execute_result",
          "data": {
            "text/plain": [
              "False"
            ]
          },
          "metadata": {
            "tags": []
          },
          "execution_count": 32
        }
      ]
    },
    {
      "cell_type": "markdown",
      "metadata": {
        "id": "x-l3p4e0cfl-",
        "colab_type": "text"
      },
      "source": [
        "Use `apply` and a `lambda` function to create a new column in `species` called `is_sheep` which is `True` if the `common_names` contains `'Sheep'`, and `False` otherwise."
      ]
    },
    {
      "cell_type": "code",
      "metadata": {
        "id": "55w1NNG4cfl_",
        "colab_type": "code",
        "colab": {}
      },
      "source": [
        "species['is_sheep'] = species.common_names.apply(lambda x: True if 'Sheep' in x else False)"
      ],
      "execution_count": 0,
      "outputs": []
    },
    {
      "cell_type": "markdown",
      "metadata": {
        "id": "VSK2zahUcfmC",
        "colab_type": "text"
      },
      "source": [
        "Select the rows of `species` where `is_sheep` is `True` and examine the results."
      ]
    },
    {
      "cell_type": "code",
      "metadata": {
        "id": "H3oLImrBcfmC",
        "colab_type": "code",
        "outputId": "0874743a-e447-44eb-b985-e4a4497689b3",
        "colab": {
          "base_uri": "https://localhost:8080/",
          "height": 314
        }
      },
      "source": [
        "species[species['is_sheep']==True]"
      ],
      "execution_count": 34,
      "outputs": [
        {
          "output_type": "execute_result",
          "data": {
            "text/html": [
              "<div>\n",
              "<style scoped>\n",
              "    .dataframe tbody tr th:only-of-type {\n",
              "        vertical-align: middle;\n",
              "    }\n",
              "\n",
              "    .dataframe tbody tr th {\n",
              "        vertical-align: top;\n",
              "    }\n",
              "\n",
              "    .dataframe thead th {\n",
              "        text-align: right;\n",
              "    }\n",
              "</style>\n",
              "<table border=\"1\" class=\"dataframe\">\n",
              "  <thead>\n",
              "    <tr style=\"text-align: right;\">\n",
              "      <th></th>\n",
              "      <th>category</th>\n",
              "      <th>scientific_name</th>\n",
              "      <th>common_names</th>\n",
              "      <th>conservation_status</th>\n",
              "      <th>is_protected</th>\n",
              "      <th>is_sheep</th>\n",
              "    </tr>\n",
              "  </thead>\n",
              "  <tbody>\n",
              "    <tr>\n",
              "      <th>3</th>\n",
              "      <td>Mammal</td>\n",
              "      <td>Ovis aries</td>\n",
              "      <td>Domestic Sheep, Mouflon, Red Sheep, Sheep (Feral)</td>\n",
              "      <td>No Intervention</td>\n",
              "      <td>False</td>\n",
              "      <td>True</td>\n",
              "    </tr>\n",
              "    <tr>\n",
              "      <th>1139</th>\n",
              "      <td>Vascular Plant</td>\n",
              "      <td>Rumex acetosella</td>\n",
              "      <td>Sheep Sorrel, Sheep Sorrell</td>\n",
              "      <td>No Intervention</td>\n",
              "      <td>False</td>\n",
              "      <td>True</td>\n",
              "    </tr>\n",
              "    <tr>\n",
              "      <th>2233</th>\n",
              "      <td>Vascular Plant</td>\n",
              "      <td>Festuca filiformis</td>\n",
              "      <td>Fineleaf Sheep Fescue</td>\n",
              "      <td>No Intervention</td>\n",
              "      <td>False</td>\n",
              "      <td>True</td>\n",
              "    </tr>\n",
              "    <tr>\n",
              "      <th>3014</th>\n",
              "      <td>Mammal</td>\n",
              "      <td>Ovis canadensis</td>\n",
              "      <td>Bighorn Sheep, Bighorn Sheep</td>\n",
              "      <td>Species of Concern</td>\n",
              "      <td>True</td>\n",
              "      <td>True</td>\n",
              "    </tr>\n",
              "    <tr>\n",
              "      <th>3758</th>\n",
              "      <td>Vascular Plant</td>\n",
              "      <td>Rumex acetosella</td>\n",
              "      <td>Common Sheep Sorrel, Field Sorrel, Red Sorrel,...</td>\n",
              "      <td>No Intervention</td>\n",
              "      <td>False</td>\n",
              "      <td>True</td>\n",
              "    </tr>\n",
              "    <tr>\n",
              "      <th>3761</th>\n",
              "      <td>Vascular Plant</td>\n",
              "      <td>Rumex paucifolius</td>\n",
              "      <td>Alpine Sheep Sorrel, Fewleaved Dock, Meadow Dock</td>\n",
              "      <td>No Intervention</td>\n",
              "      <td>False</td>\n",
              "      <td>True</td>\n",
              "    </tr>\n",
              "    <tr>\n",
              "      <th>4091</th>\n",
              "      <td>Vascular Plant</td>\n",
              "      <td>Carex illota</td>\n",
              "      <td>Sheep Sedge, Smallhead Sedge</td>\n",
              "      <td>No Intervention</td>\n",
              "      <td>False</td>\n",
              "      <td>True</td>\n",
              "    </tr>\n",
              "    <tr>\n",
              "      <th>4383</th>\n",
              "      <td>Vascular Plant</td>\n",
              "      <td>Potentilla ovina var. ovina</td>\n",
              "      <td>Sheep Cinquefoil</td>\n",
              "      <td>No Intervention</td>\n",
              "      <td>False</td>\n",
              "      <td>True</td>\n",
              "    </tr>\n",
              "    <tr>\n",
              "      <th>4446</th>\n",
              "      <td>Mammal</td>\n",
              "      <td>Ovis canadensis sierrae</td>\n",
              "      <td>Sierra Nevada Bighorn Sheep</td>\n",
              "      <td>Endangered</td>\n",
              "      <td>True</td>\n",
              "      <td>True</td>\n",
              "    </tr>\n",
              "  </tbody>\n",
              "</table>\n",
              "</div>"
            ],
            "text/plain": [
              "            category              scientific_name  ... is_protected is_sheep\n",
              "3             Mammal                   Ovis aries  ...        False     True\n",
              "1139  Vascular Plant             Rumex acetosella  ...        False     True\n",
              "2233  Vascular Plant           Festuca filiformis  ...        False     True\n",
              "3014          Mammal              Ovis canadensis  ...         True     True\n",
              "3758  Vascular Plant             Rumex acetosella  ...        False     True\n",
              "3761  Vascular Plant            Rumex paucifolius  ...        False     True\n",
              "4091  Vascular Plant                 Carex illota  ...        False     True\n",
              "4383  Vascular Plant  Potentilla ovina var. ovina  ...        False     True\n",
              "4446          Mammal      Ovis canadensis sierrae  ...         True     True\n",
              "\n",
              "[9 rows x 6 columns]"
            ]
          },
          "metadata": {
            "tags": []
          },
          "execution_count": 34
        }
      ]
    },
    {
      "cell_type": "markdown",
      "metadata": {
        "id": "kUCjbFMfcfmD",
        "colab_type": "text"
      },
      "source": [
        "Many of the results are actually plants.  Select the rows of `species` where `is_sheep` is `True` and `category` is `Mammal`.  Save the results to the variable `sheep_species`."
      ]
    },
    {
      "cell_type": "code",
      "metadata": {
        "id": "3JExuAmZcfmE",
        "colab_type": "code",
        "colab": {}
      },
      "source": [
        "sheep_species = species[(species.is_sheep == True) & (species.category == 'Mammal')]"
      ],
      "execution_count": 0,
      "outputs": []
    },
    {
      "cell_type": "markdown",
      "metadata": {
        "id": "TQfzR6iRcfmF",
        "colab_type": "text"
      },
      "source": [
        "Now merge `sheep_species` with `observations` to get a DataFrame with observations of sheep.  Save this DataFrame as `sheep_observations`."
      ]
    },
    {
      "cell_type": "code",
      "metadata": {
        "id": "PX3Ktl4scfmF",
        "colab_type": "code",
        "outputId": "c5bf1261-d29a-457f-9b51-c7aa1819fb08",
        "colab": {
          "base_uri": "https://localhost:8080/",
          "height": 570
        }
      },
      "source": [
        "sheep_observations = observations.merge(sheep_species)\n",
        "sheep_observations"
      ],
      "execution_count": 36,
      "outputs": [
        {
          "output_type": "execute_result",
          "data": {
            "text/html": [
              "<div>\n",
              "<style scoped>\n",
              "    .dataframe tbody tr th:only-of-type {\n",
              "        vertical-align: middle;\n",
              "    }\n",
              "\n",
              "    .dataframe tbody tr th {\n",
              "        vertical-align: top;\n",
              "    }\n",
              "\n",
              "    .dataframe thead th {\n",
              "        text-align: right;\n",
              "    }\n",
              "</style>\n",
              "<table border=\"1\" class=\"dataframe\">\n",
              "  <thead>\n",
              "    <tr style=\"text-align: right;\">\n",
              "      <th></th>\n",
              "      <th>scientific_name</th>\n",
              "      <th>park_name</th>\n",
              "      <th>observations</th>\n",
              "      <th>category</th>\n",
              "      <th>common_names</th>\n",
              "      <th>conservation_status</th>\n",
              "      <th>is_protected</th>\n",
              "      <th>is_sheep</th>\n",
              "    </tr>\n",
              "  </thead>\n",
              "  <tbody>\n",
              "    <tr>\n",
              "      <th>0</th>\n",
              "      <td>Ovis canadensis</td>\n",
              "      <td>Yellowstone National Park</td>\n",
              "      <td>219</td>\n",
              "      <td>Mammal</td>\n",
              "      <td>Bighorn Sheep, Bighorn Sheep</td>\n",
              "      <td>Species of Concern</td>\n",
              "      <td>True</td>\n",
              "      <td>True</td>\n",
              "    </tr>\n",
              "    <tr>\n",
              "      <th>1</th>\n",
              "      <td>Ovis canadensis</td>\n",
              "      <td>Bryce National Park</td>\n",
              "      <td>109</td>\n",
              "      <td>Mammal</td>\n",
              "      <td>Bighorn Sheep, Bighorn Sheep</td>\n",
              "      <td>Species of Concern</td>\n",
              "      <td>True</td>\n",
              "      <td>True</td>\n",
              "    </tr>\n",
              "    <tr>\n",
              "      <th>2</th>\n",
              "      <td>Ovis canadensis</td>\n",
              "      <td>Yosemite National Park</td>\n",
              "      <td>117</td>\n",
              "      <td>Mammal</td>\n",
              "      <td>Bighorn Sheep, Bighorn Sheep</td>\n",
              "      <td>Species of Concern</td>\n",
              "      <td>True</td>\n",
              "      <td>True</td>\n",
              "    </tr>\n",
              "    <tr>\n",
              "      <th>3</th>\n",
              "      <td>Ovis canadensis</td>\n",
              "      <td>Great Smoky Mountains National Park</td>\n",
              "      <td>48</td>\n",
              "      <td>Mammal</td>\n",
              "      <td>Bighorn Sheep, Bighorn Sheep</td>\n",
              "      <td>Species of Concern</td>\n",
              "      <td>True</td>\n",
              "      <td>True</td>\n",
              "    </tr>\n",
              "    <tr>\n",
              "      <th>4</th>\n",
              "      <td>Ovis canadensis sierrae</td>\n",
              "      <td>Yellowstone National Park</td>\n",
              "      <td>67</td>\n",
              "      <td>Mammal</td>\n",
              "      <td>Sierra Nevada Bighorn Sheep</td>\n",
              "      <td>Endangered</td>\n",
              "      <td>True</td>\n",
              "      <td>True</td>\n",
              "    </tr>\n",
              "    <tr>\n",
              "      <th>5</th>\n",
              "      <td>Ovis canadensis sierrae</td>\n",
              "      <td>Yosemite National Park</td>\n",
              "      <td>39</td>\n",
              "      <td>Mammal</td>\n",
              "      <td>Sierra Nevada Bighorn Sheep</td>\n",
              "      <td>Endangered</td>\n",
              "      <td>True</td>\n",
              "      <td>True</td>\n",
              "    </tr>\n",
              "    <tr>\n",
              "      <th>6</th>\n",
              "      <td>Ovis canadensis sierrae</td>\n",
              "      <td>Bryce National Park</td>\n",
              "      <td>22</td>\n",
              "      <td>Mammal</td>\n",
              "      <td>Sierra Nevada Bighorn Sheep</td>\n",
              "      <td>Endangered</td>\n",
              "      <td>True</td>\n",
              "      <td>True</td>\n",
              "    </tr>\n",
              "    <tr>\n",
              "      <th>7</th>\n",
              "      <td>Ovis canadensis sierrae</td>\n",
              "      <td>Great Smoky Mountains National Park</td>\n",
              "      <td>25</td>\n",
              "      <td>Mammal</td>\n",
              "      <td>Sierra Nevada Bighorn Sheep</td>\n",
              "      <td>Endangered</td>\n",
              "      <td>True</td>\n",
              "      <td>True</td>\n",
              "    </tr>\n",
              "    <tr>\n",
              "      <th>8</th>\n",
              "      <td>Ovis aries</td>\n",
              "      <td>Yosemite National Park</td>\n",
              "      <td>126</td>\n",
              "      <td>Mammal</td>\n",
              "      <td>Domestic Sheep, Mouflon, Red Sheep, Sheep (Feral)</td>\n",
              "      <td>No Intervention</td>\n",
              "      <td>False</td>\n",
              "      <td>True</td>\n",
              "    </tr>\n",
              "    <tr>\n",
              "      <th>9</th>\n",
              "      <td>Ovis aries</td>\n",
              "      <td>Great Smoky Mountains National Park</td>\n",
              "      <td>76</td>\n",
              "      <td>Mammal</td>\n",
              "      <td>Domestic Sheep, Mouflon, Red Sheep, Sheep (Feral)</td>\n",
              "      <td>No Intervention</td>\n",
              "      <td>False</td>\n",
              "      <td>True</td>\n",
              "    </tr>\n",
              "    <tr>\n",
              "      <th>10</th>\n",
              "      <td>Ovis aries</td>\n",
              "      <td>Bryce National Park</td>\n",
              "      <td>119</td>\n",
              "      <td>Mammal</td>\n",
              "      <td>Domestic Sheep, Mouflon, Red Sheep, Sheep (Feral)</td>\n",
              "      <td>No Intervention</td>\n",
              "      <td>False</td>\n",
              "      <td>True</td>\n",
              "    </tr>\n",
              "    <tr>\n",
              "      <th>11</th>\n",
              "      <td>Ovis aries</td>\n",
              "      <td>Yellowstone National Park</td>\n",
              "      <td>221</td>\n",
              "      <td>Mammal</td>\n",
              "      <td>Domestic Sheep, Mouflon, Red Sheep, Sheep (Feral)</td>\n",
              "      <td>No Intervention</td>\n",
              "      <td>False</td>\n",
              "      <td>True</td>\n",
              "    </tr>\n",
              "  </tbody>\n",
              "</table>\n",
              "</div>"
            ],
            "text/plain": [
              "            scientific_name  ... is_sheep\n",
              "0           Ovis canadensis  ...     True\n",
              "1           Ovis canadensis  ...     True\n",
              "2           Ovis canadensis  ...     True\n",
              "3           Ovis canadensis  ...     True\n",
              "4   Ovis canadensis sierrae  ...     True\n",
              "5   Ovis canadensis sierrae  ...     True\n",
              "6   Ovis canadensis sierrae  ...     True\n",
              "7   Ovis canadensis sierrae  ...     True\n",
              "8                Ovis aries  ...     True\n",
              "9                Ovis aries  ...     True\n",
              "10               Ovis aries  ...     True\n",
              "11               Ovis aries  ...     True\n",
              "\n",
              "[12 rows x 8 columns]"
            ]
          },
          "metadata": {
            "tags": []
          },
          "execution_count": 36
        }
      ]
    },
    {
      "cell_type": "markdown",
      "metadata": {
        "id": "nKmhhaffcfmG",
        "colab_type": "text"
      },
      "source": [
        "How many total sheep observations (across all three species) were made at each national park?  Use `groupby` to get the `sum` of `observations` for each `park_name`.  Save your answer to `obs_by_park`.\n",
        "\n",
        "This is the total number of sheep observed in each park over the past 7 days."
      ]
    },
    {
      "cell_type": "code",
      "metadata": {
        "id": "DbGNtnfFcfmH",
        "colab_type": "code",
        "outputId": "c2ebae84-1eef-47fb-d6cd-786006e4a0c0",
        "colab": {
          "base_uri": "https://localhost:8080/",
          "height": 166
        }
      },
      "source": [
        "obs_by_park = sheep_observations.groupby('park_name').observations.sum().reset_index()\n",
        "obs_by_park"
      ],
      "execution_count": 37,
      "outputs": [
        {
          "output_type": "execute_result",
          "data": {
            "text/html": [
              "<div>\n",
              "<style scoped>\n",
              "    .dataframe tbody tr th:only-of-type {\n",
              "        vertical-align: middle;\n",
              "    }\n",
              "\n",
              "    .dataframe tbody tr th {\n",
              "        vertical-align: top;\n",
              "    }\n",
              "\n",
              "    .dataframe thead th {\n",
              "        text-align: right;\n",
              "    }\n",
              "</style>\n",
              "<table border=\"1\" class=\"dataframe\">\n",
              "  <thead>\n",
              "    <tr style=\"text-align: right;\">\n",
              "      <th></th>\n",
              "      <th>park_name</th>\n",
              "      <th>observations</th>\n",
              "    </tr>\n",
              "  </thead>\n",
              "  <tbody>\n",
              "    <tr>\n",
              "      <th>0</th>\n",
              "      <td>Bryce National Park</td>\n",
              "      <td>250</td>\n",
              "    </tr>\n",
              "    <tr>\n",
              "      <th>1</th>\n",
              "      <td>Great Smoky Mountains National Park</td>\n",
              "      <td>149</td>\n",
              "    </tr>\n",
              "    <tr>\n",
              "      <th>2</th>\n",
              "      <td>Yellowstone National Park</td>\n",
              "      <td>507</td>\n",
              "    </tr>\n",
              "    <tr>\n",
              "      <th>3</th>\n",
              "      <td>Yosemite National Park</td>\n",
              "      <td>282</td>\n",
              "    </tr>\n",
              "  </tbody>\n",
              "</table>\n",
              "</div>"
            ],
            "text/plain": [
              "                             park_name  observations\n",
              "0                  Bryce National Park           250\n",
              "1  Great Smoky Mountains National Park           149\n",
              "2            Yellowstone National Park           507\n",
              "3               Yosemite National Park           282"
            ]
          },
          "metadata": {
            "tags": []
          },
          "execution_count": 37
        }
      ]
    },
    {
      "cell_type": "markdown",
      "metadata": {
        "id": "SsJcDXE9cfmI",
        "colab_type": "text"
      },
      "source": [
        "Create a bar chart showing the different number of observations per week at each park.\n",
        "\n",
        "1. Start by creating a wide figure with `figsize=(16, 4)`\n",
        "1. Start by creating an axes object called `ax` using `plt.subplot`.\n",
        "2. Create a bar chart whose heights are equal to `observations` column of `obs_by_park`.\n",
        "3. Create an x-tick for each of the bars.\n",
        "4. Label each x-tick with the label from `park_name` in `obs_by_park`\n",
        "5. Label the y-axis `Number of Observations`\n",
        "6. Title the graph `Observations of Sheep per Week`\n",
        "7. Plot the grap using `plt.show()`"
      ]
    },
    {
      "cell_type": "code",
      "metadata": {
        "id": "HQSEgb0636BQ",
        "colab_type": "code",
        "colab": {}
      },
      "source": [
        "bar_heights = obs_by_park.observations\n",
        "bar_x_labels = obs_by_park.park_name"
      ],
      "execution_count": 0,
      "outputs": []
    },
    {
      "cell_type": "code",
      "metadata": {
        "id": "4GZxH4bTcfmI",
        "colab_type": "code",
        "outputId": "0869ceef-7afa-4e19-fbd5-cc7ca3647a30",
        "colab": {
          "base_uri": "https://localhost:8080/",
          "height": 281
        }
      },
      "source": [
        "# Graph with all types of conservation status included\n",
        "plt.figure(figsize=(16,4))\n",
        "ax = plt.subplot()\n",
        "plt.bar(range(len(bar_heights)),\n",
        "  \t\t\tbar_heights,\n",
        "       capsize=5)\n",
        "ax.set_xticks(range(len(bar_heights)))\n",
        "ax.set_xticklabels(bar_x_labels)\n",
        "plt.ylabel('Number of Observations')\n",
        "plt.title('Observations of Sheep per week')\n",
        "plt.show()"
      ],
      "execution_count": 39,
      "outputs": [
        {
          "output_type": "display_data",
          "data": {
            "image/png": "[encoded data removed]",
            "text/plain": [
              "<Figure size 1152x288 with 1 Axes>"
            ]
          },
          "metadata": {
            "tags": []
          }
        }
      ]
    },
    {
      "cell_type": "markdown",
      "metadata": {
        "id": "Xn0N5fMScfmJ",
        "colab_type": "text"
      },
      "source": [
        "Our scientists know that 15% of sheep at Bryce National Park have foot and mouth disease.  Park rangers at Yellowstone National Park have been running a program to reduce the rate of foot and mouth disease at that park.  The scientists want to test whether or not this program is working.  They want to be able to detect reductions of at least 5 percentage points.  For instance, if 10% of sheep in Yellowstone have foot and mouth disease, they'd like to be able to know this, with confidence.\n",
        "\n",
        "Use <a href=\"https://s3.amazonaws.com/codecademy-content/courses/learn-hypothesis-testing/a_b_sample_size/index.html\">Codecademy's sample size calculator</a> to calculate the number of sheep that they would need to observe from each park.  Use the default level of significance (90%).\n",
        "\n",
        "Remember that \"Minimum Detectable Effect\" is a percent of the baseline."
      ]
    },
    {
      "cell_type": "code",
      "metadata": {
        "id": "aHztqqQmcfmK",
        "colab_type": "code",
        "colab": {}
      },
      "source": [
        ""
      ],
      "execution_count": 0,
      "outputs": []
    },
    {
      "cell_type": "markdown",
      "metadata": {
        "id": "ZX3NUsD1cfmL",
        "colab_type": "text"
      },
      "source": [
        "How many weeks would you need to observe sheep at Bryce National Park in order to observe enough sheep?  How many weeks would you need to observe at Yellowstone National Park to observe enough sheep?"
      ]
    },
    {
      "cell_type": "code",
      "metadata": {
        "id": "0tGUgyIYcfmL",
        "colab_type": "code",
        "colab": {}
      },
      "source": [
        ""
      ],
      "execution_count": 0,
      "outputs": []
    }
  ]
}